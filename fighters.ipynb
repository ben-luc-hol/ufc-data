{
 "cells": [
  {
   "cell_type": "code",
   "execution_count": 1,
   "id": "initial_id",
   "metadata": {
    "collapsed": true,
    "ExecuteTime": {
     "end_time": "2024-09-04T22:11:43.421442Z",
     "start_time": "2024-09-04T22:11:42.238453Z"
    }
   },
   "outputs": [],
   "source": [
    "from scraper import FighterScraper"
   ]
  },
  {
   "cell_type": "code",
   "outputs": [],
   "source": [
    "Fighters = FighterScraper()"
   ],
   "metadata": {
    "collapsed": false,
    "ExecuteTime": {
     "end_time": "2024-09-04T22:11:43.424320Z",
     "start_time": "2024-09-04T22:11:43.422353Z"
    }
   },
   "id": "cac4bce8aa3cbe5b",
   "execution_count": 2
  },
  {
   "cell_type": "code",
   "outputs": [
    {
     "name": "stdout",
     "output_type": "stream",
     "text": [
      "Scraping fighters for letter: a\n",
      "Scraping fighters for letter: b\n",
      "Scraping fighters for letter: c\n",
      "Scraping fighters for letter: d\n",
      "Scraping fighters for letter: e\n",
      "Scraping fighters for letter: f\n",
      "Scraping fighters for letter: g\n",
      "Scraping fighters for letter: h\n",
      "Scraping fighters for letter: i\n",
      "Scraping fighters for letter: j\n",
      "Scraping fighters for letter: k\n",
      "Scraping fighters for letter: l\n",
      "Scraping fighters for letter: m\n",
      "Scraping fighters for letter: n\n",
      "Scraping fighters for letter: o\n",
      "Scraping fighters for letter: p\n",
      "Scraping fighters for letter: q\n",
      "Scraping fighters for letter: r\n",
      "Scraping fighters for letter: s\n",
      "Scraping fighters for letter: t\n",
      "Scraping fighters for letter: u\n",
      "Scraping fighters for letter: v\n",
      "Scraping fighters for letter: w\n",
      "Scraping fighters for letter: x\n",
      "Scraping fighters for letter: y\n",
      "Scraping fighters for letter: z\n"
     ]
    },
    {
     "name": "stderr",
     "output_type": "stream",
     "text": [
      "Scraping fighter data:   9%|▉         | 1164/12735 [13:12<2:06:40,  1.52it/s]"
     ]
    }
   ],
   "source": [
    "fighters_data = Fighters.get_dataset()"
   ],
   "metadata": {
    "collapsed": false,
    "is_executing": true,
    "ExecuteTime": {
     "start_time": "2024-09-04T22:13:01.146291Z"
    }
   },
   "id": "35c978fe4049148"
  },
  {
   "cell_type": "code",
   "outputs": [],
   "source": [
    "fighters_data.to_csv('fighters.csv', index=False)"
   ],
   "metadata": {
    "collapsed": false
   },
   "id": "6f4123ef8986962"
  }
 ],
 "metadata": {
  "kernelspec": {
   "display_name": "Python 3",
   "language": "python",
   "name": "python3"
  },
  "language_info": {
   "codemirror_mode": {
    "name": "ipython",
    "version": 2
   },
   "file_extension": ".py",
   "mimetype": "text/x-python",
   "name": "python",
   "nbconvert_exporter": "python",
   "pygments_lexer": "ipython2",
   "version": "2.7.6"
  }
 },
 "nbformat": 4,
 "nbformat_minor": 5
}
